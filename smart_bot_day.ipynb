{
  "cells": [
    {
      "cell_type": "code",
      "execution_count": null,
      "metadata": {
        "id": "quR4HlaKS_w5"
      },
      "outputs": [],
      "source": [
        "import random\n",
        "\n",
        "from nltk import edit_distance"
      ]
    },
    {
      "cell_type": "markdown",
      "source": [
        "# Day1"
      ],
      "metadata": {
        "id": "6E8E-YGiIJOU"
      }
    },
    {
      "cell_type": "code",
      "execution_count": null,
      "metadata": {
        "id": "CRAuba2FIMZZ"
      },
      "outputs": [],
      "source": [
        "BOT_CONFIG = {\n",
        "    \"intents\": {\n",
        "        \"hello\": {\n",
        "            \"examples\": [\"Привет\", \"Здравствуйте\", \"Добрый вечер\"],\n",
        "            \"responses\": [\"Здравствуй\", \"Хеллоу\", \"Хай\"]\n",
        "        },\n",
        "        \"thanks\": {\n",
        "            \"examples\": [\"Спасибо\", \"Большое спасибо\"],\n",
        "            \"responses\": [\"Пожалуйста\", \"Не за что\", \"Обращайтесь еще\"]\n",
        "        },\n",
        "        \"do\": {\n",
        "            \"examples\": [\"Как дела\", \"How are you\"],\n",
        "            \"responses\": [\"Отлично\", \"Нормально\", \"Пока не радила:)\"],\n",
        "        },\n",
        "        \"name\": {\n",
        "            \"examples\": [\"Как тебя зовут\", \"Как твое имя\", \"Назовитесь\"],\n",
        "            \"responses\": [\"Тестик\", \"Можете звать меня, Тестик\", \"Май нэйм из Тестик\"],\n",
        "        },    \n",
        "        \"mood\": {\n",
        "            \"examples\": [\"Как настроение\", \"какой настрой\", \"что с настроением\"],\n",
        "            \"responses\": [\"в норме\", \"все Ок\", \"все плохо\"],                 \n",
        "        }\n",
        "    }\n",
        "}"
      ]
    },
    {
      "cell_type": "code",
      "execution_count": null,
      "metadata": {
        "id": "m6P6ND0uV_2a"
      },
      "outputs": [],
      "source": [
        "def clean_text(text):\n",
        "  output_text = \"\"\n",
        "  for char in text:\n",
        "    if char in \"абвгдеёжзийклмнопрстуфхцчшщъыьэюяqwertyuioplkjhgfdsazxcvbnm\":\n",
        "      output_text = output_text + char\n",
        "  return output_text"
      ]
    },
    {
      "cell_type": "code",
      "execution_count": null,
      "metadata": {
        "id": "z2tiw9PrQTnl"
      },
      "outputs": [],
      "source": [
        "def get_intent(input_text):\n",
        "  for intent in BOT_CONFIG[\"intents\"].keys():\n",
        "    for example in BOT_CONFIG[\"intents\"][intent][\"examples\"]:\n",
        "      text1 = clean_text(input_text.lower())\n",
        "      text2 = clean_text(example.lower())\n",
        "      if edit_distance(text1, text2) / max(len(text1), len(text2)) < 0.34:\n",
        "        return intent\n",
        "  return \"Not found\""
      ]
    },
    {
      "cell_type": "code",
      "execution_count": null,
      "metadata": {
        "id": "Hva78iPoSHnV"
      },
      "outputs": [],
      "source": [
        "def bot(input_text):\n",
        "  intent = get_intent(input_text)\n",
        "  if intent == \"Not found\":\n",
        "    return \"Мы вас не поняли :( Попробуйте снова\"\n",
        "  else:\n",
        "    return random.choice(BOT_CONFIG[\"intents\"][intent][\"responses\"])"
      ]
    },
    {
      "cell_type": "code",
      "execution_count": null,
      "metadata": {
        "id": "QB8Q8wtiSKXJ"
      },
      "outputs": [],
      "source": [
        "input_text = \"\"\n",
        "print(\"Для выхода из диалога напишите Пока\")\n",
        "print(\"------\")\n",
        "\n",
        "while True:\n",
        "  input_text = input()\n",
        "  if input_text == \"\":\n",
        "    print(\"Вы ничего не ввели\")\n",
        "    continue\n",
        "  if input_text == \"Пока\":\n",
        "    break\n",
        "  else:\n",
        "    print(bot(input_text))"
      ]
    },
    {
      "cell_type": "markdown",
      "source": [
        "# Day 2"
      ],
      "metadata": {
        "id": "y0Kl1HFXIUlM"
      }
    },
    {
      "cell_type": "code",
      "source": [
        "import json\n",
        "import random\n",
        "from sklearn.feature_extraction.text import CountVectorizer\n",
        "from sklearn.linear_model import LogisticRegression\n",
        "from sklearn.model_selection import train_test_split\n",
        "from sklearn.ensemble import RandomForestClassifier"
      ],
      "metadata": {
        "id": "Zvmmc2c2Fr7L"
      },
      "execution_count": 9,
      "outputs": []
    },
    {
      "cell_type": "code",
      "source": [
        "RANDOM_STATE = 42"
      ],
      "metadata": {
        "id": "SfOBh4oJ9ZTL"
      },
      "execution_count": 10,
      "outputs": []
    },
    {
      "cell_type": "code",
      "source": [
        "with open (\"BOT_CONFIG.json\", \"r\") as file:\n",
        "  BOT_CONFIG = json.load(file)"
      ],
      "metadata": {
        "id": "dkawlatAF34B"
      },
      "execution_count": 11,
      "outputs": []
    },
    {
      "cell_type": "code",
      "source": [
        "BOT_CONFIG[\"intents\"][\"hello\"]"
      ],
      "metadata": {
        "id": "TaT_OYOCGXzH",
        "colab": {
          "base_uri": "https://localhost:8080/"
        },
        "outputId": "d6212f04-7f79-481c-f110-f4cac81558ba"
      },
      "execution_count": 12,
      "outputs": [
        {
          "output_type": "execute_result",
          "data": {
            "text/plain": [
              "{'examples': ['привет!', 'хай!!', 'прив'],\n",
              " 'responses': ['здравствуйте', 'хэллоу!', 'хей!!1']}"
            ]
          },
          "metadata": {},
          "execution_count": 12
        }
      ]
    },
    {
      "cell_type": "code",
      "source": [
        "x = []\n",
        "y = []\n",
        "\n",
        "count = 0\n",
        "\n",
        "for intent in BOT_CONFIG[\"intents\"].keys():\n",
        "  try:\n",
        "    for example in BOT_CONFIG[\"intents\"][intent][\"examples\"]: \n",
        "      x.append(example)\n",
        "      y.append(intent)\n",
        "  except KeyError:\n",
        "    print(BOT_CONFIG[\"intents\"][intent])\n"
      ],
      "metadata": {
        "id": "IKddHHTOkpYb",
        "colab": {
          "base_uri": "https://localhost:8080/"
        },
        "outputId": "f168dd9e-6cb1-4d4d-d9af-ceec7a2dbc8a"
      },
      "execution_count": 13,
      "outputs": [
        {
          "output_type": "stream",
          "name": "stdout",
          "text": [
            "{'example': ['Твои задачи', 'Что ты можешь', 'Твои функции'], 'response': ['Поговорить с вами!', 'Провести с вами беседу', 'Заболтать вас :)']}\n"
          ]
        }
      ]
    },
    {
      "cell_type": "code",
      "source": [
        "x_train, x_test, y_train, y_test = train_test_split(x,y, test_size=0.3, random_state=RANDOM_STATE)"
      ],
      "metadata": {
        "id": "GVeVe2hp9Dec"
      },
      "execution_count": 14,
      "outputs": []
    },
    {
      "cell_type": "code",
      "source": [
        "len(x_train), len(x_test)"
      ],
      "metadata": {
        "id": "_k84zsCx98WA",
        "colab": {
          "base_uri": "https://localhost:8080/"
        },
        "outputId": "7832edab-a87e-4945-d600-6567d0fc94ec"
      },
      "execution_count": 15,
      "outputs": [
        {
          "output_type": "execute_result",
          "data": {
            "text/plain": [
              "(1008, 432)"
            ]
          },
          "metadata": {},
          "execution_count": 15
        }
      ]
    },
    {
      "cell_type": "code",
      "source": [
        "vectorizer = CountVectorizer(ngram_range=(1, 5), analyzer=\"char\")\n",
        "X_train_vectorized = vectorizer.fit_transform(x_train)\n",
        "X_test_vectorized = vectorizer.transform(x_test)"
      ],
      "metadata": {
        "id": "7Bw-rQz-mOQ1"
      },
      "execution_count": 16,
      "outputs": []
    },
    {
      "cell_type": "code",
      "source": [
        " #model = LogisticRegression(random_state=RANDOM_STATE, C=10)\n",
        "model = RandomForestClassifier(random_state=RANDOM_STATE, n_estimators=200)"
      ],
      "metadata": {
        "id": "5IkgRFJfpYJk"
      },
      "execution_count": 17,
      "outputs": []
    },
    {
      "cell_type": "code",
      "source": [
        "model.fit(X_train_vectorized, y_train)"
      ],
      "metadata": {
        "id": "W7dkpKO8sCmZ",
        "colab": {
          "base_uri": "https://localhost:8080/"
        },
        "outputId": "c6dd7166-5a6c-4f67-d2c0-c44b2f0d83c1"
      },
      "execution_count": 18,
      "outputs": [
        {
          "output_type": "execute_result",
          "data": {
            "text/plain": [
              "RandomForestClassifier(n_estimators=200, random_state=42)"
            ]
          },
          "metadata": {},
          "execution_count": 18
        }
      ]
    },
    {
      "cell_type": "code",
      "source": [
        "model.predict(vectorizer.transform([\"твоя любимая пицца? Как дела?\"]))"
      ],
      "metadata": {
        "id": "lvoXqCUfsDRo",
        "colab": {
          "base_uri": "https://localhost:8080/"
        },
        "outputId": "3a895acd-41bd-454b-d636-aa3bb96e6c99"
      },
      "execution_count": 19,
      "outputs": [
        {
          "output_type": "execute_result",
          "data": {
            "text/plain": [
              "array(['pizza'], dtype='<U41')"
            ]
          },
          "metadata": {},
          "execution_count": 19
        }
      ]
    },
    {
      "cell_type": "code",
      "source": [
        "model.score(X_train_vectorized, y_train)"
      ],
      "metadata": {
        "id": "fozoh-JUtqkV",
        "colab": {
          "base_uri": "https://localhost:8080/"
        },
        "outputId": "d95f48b0-d1a1-4cfe-fbbd-4045dd89a1fa"
      },
      "execution_count": 20,
      "outputs": [
        {
          "output_type": "execute_result",
          "data": {
            "text/plain": [
              "0.8839285714285714"
            ]
          },
          "metadata": {},
          "execution_count": 20
        }
      ]
    },
    {
      "cell_type": "code",
      "source": [
        "model.score(X_test_vectorized, y_test)"
      ],
      "metadata": {
        "id": "US4zJx3FRWe1",
        "colab": {
          "base_uri": "https://localhost:8080/"
        },
        "outputId": "b18d66f8-3d33-4762-ac3c-a94df7d97a4b"
      },
      "execution_count": 21,
      "outputs": [
        {
          "output_type": "execute_result",
          "data": {
            "text/plain": [
              "0.18055555555555555"
            ]
          },
          "metadata": {},
          "execution_count": 21
        }
      ]
    },
    {
      "cell_type": "code",
      "execution_count": 22,
      "metadata": {
        "id": "wurhAuvgN4_b"
      },
      "outputs": [],
      "source": [
        "def get_intent(input_text):\n",
        "  return model.predict(vectorizer.transform([input_text]))[0]\n",
        "\n",
        "def bot(input_text):\n",
        "  intent = get_intent(input_text)\n",
        "  return random.choice(BOT_CONFIG[\"intents\"][intent][\"responses\"])"
      ]
    },
    {
      "cell_type": "code",
      "execution_count": 2,
      "metadata": {
        "id": "LXCWIgGYPH7R",
        "colab": {
          "base_uri": "https://localhost:8080/"
        },
        "outputId": "ab855bf3-309c-43bf-a29b-5b04f1a8f570"
      },
      "outputs": [
        {
          "name": "stdout",
          "output_type": "stream",
          "text": [
            "Для выхода из диалога напишите Пока\n",
            "------\n",
            "Пока\n"
          ]
        }
      ],
      "source": [
        "input_text = \"\"\n",
        "print(\"Для выхода из диалога напишите Пока\")\n",
        "print(\"------\")\n",
        "\n",
        "while True:\n",
        "  input_text = input()\n",
        "  if input_text == \"\":\n",
        "    print(\"Вы ничего не ввели\")\n",
        "    continue\n",
        "  if input_text == \"Пока\":\n",
        "    break\n",
        "  else:\n",
        "    print(bot(input_text))"
      ]
    },
    {
      "cell_type": "code",
      "source": [
        ""
      ],
      "metadata": {
        "id": "D1gKWuRKStr6"
      },
      "execution_count": null,
      "outputs": []
    },
    {
      "cell_type": "markdown",
      "source": [
        "# Day 3"
      ],
      "metadata": {
        "id": "leZ7mh3Jf4Sx"
      }
    },
    {
      "cell_type": "code",
      "source": [
        "# !pip install python-telegram-bot --upgrade"
      ],
      "metadata": {
        "id": "hXXnEKptf_Zs"
      },
      "execution_count": 4,
      "outputs": []
    },
    {
      "cell_type": "code",
      "source": [
        "import logging\n",
        "\n",
        "from telegram import Update, ForceReply\n",
        "from telegram.ext import Updater, CommandHandler, MessageHandler, Filters, CallbackContext"
      ],
      "metadata": {
        "id": "Ee_Ooaq_gwNw"
      },
      "execution_count": 5,
      "outputs": []
    },
    {
      "cell_type": "code",
      "source": [
        "TOKEN = \"TOKEN\"" # Need add token hear for telegrem bot
      ],
      "metadata": {
        "id": "EdiuZf4uhwh6"
      },
      "execution_count": 6,
      "outputs": []
    },
    {
      "cell_type": "code",
      "source": [
        "# Define a few command handlers. These usually take the two arguments update and\n",
        "# context.\n",
        "def start(update: Update, context: CallbackContext) -> None:\n",
        "    \"\"\"Send a message when the command /start is issued.\"\"\"\n",
        "    user = update.effective_user\n",
        "    update.message.reply_markdown_v2(\n",
        "        fr'Hi {user.mention_markdown_v2()}\\!',\n",
        "        reply_markup=ForceReply(selective=True),\n",
        "    )\n",
        "\n",
        "\n",
        "def help_command(update: Update, context: CallbackContext) -> None:\n",
        "    \"\"\"Send a message when the command /help is issued.\"\"\"\n",
        "    update.message.reply_text('Help!')\n",
        "\n",
        "\n",
        "def echo(update: Update, context: CallbackContext) -> None:\n",
        "    \"\"\"Echo the user message.\"\"\"\n",
        "    update.message.reply_text(bot(update.message.text))\n",
        "\n",
        "\n",
        "def main() -> None:\n",
        "    \"\"\"Start the bot.\"\"\"\n",
        "    # Create the Updater and pass it your bot's token.\n",
        "    updater = Updater(TOKEN)\n",
        "\n",
        "    # Get the dispatcher to register handlers\n",
        "    dispatcher = updater.dispatcher\n",
        "\n",
        "    # on different commands - answer in Telegram\n",
        "    dispatcher.add_handler(CommandHandler(\"start\", start))\n",
        "    dispatcher.add_handler(CommandHandler(\"help\", help_command))\n",
        "\n",
        "    # on non command i.e message - echo the message on Telegram\n",
        "    dispatcher.add_handler(MessageHandler(Filters.text & ~Filters.command, echo))\n",
        "\n",
        "    # Start the Bot\n",
        "    updater.start_polling()\n",
        "\n",
        "    # Run the bot until you press Ctrl-C or the process receives SIGINT,\n",
        "    # SIGTERM or SIGABRT. This should be used most of the time, since\n",
        "    # start_polling() is non-blocking and will stop the bot gracefully.\n",
        "    updater.idle()\n"
      ],
      "metadata": {
        "id": "nHATn4ZmhTbv"
      },
      "execution_count": 7,
      "outputs": []
    },
    {
      "cell_type": "code",
      "source": [
        "main()"
      ],
      "metadata": {
        "id": "mejX3x3Qixwr"
      },
      "execution_count": 23,
      "outputs": []
    }
  ],
  "metadata": {
    "colab": {
      "name": "Копия блокнота \"smart_bot_day_1.ipynb\"",
      "provenance": [],
      "collapsed_sections": []
    },
    "kernelspec": {
      "display_name": "Python 3",
      "name": "python3"
    },
    "language_info": {
      "name": "python"
    }
  },
  "nbformat": 4,
  "nbformat_minor": 0
}